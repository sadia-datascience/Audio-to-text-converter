{
  "nbformat": 4,
  "nbformat_minor": 0,
  "metadata": {
    "colab": {
      "provenance": []
    },
    "kernelspec": {
      "name": "python3",
      "display_name": "Python 3"
    },
    "language_info": {
      "name": "python"
    }
  },
  "cells": [
    {
      "cell_type": "code",
      "metadata": {
        "id": "QLxIYKb2Lmwv"
      },
      "source": [],
      "execution_count": null,
      "outputs": []
    },
    {
      "cell_type": "markdown",
      "metadata": {
        "id": "2u8zUzMHLueE"
      },
      "source": [
        "Install dependencies"
      ]
    },
    {
      "cell_type": "code",
      "metadata": {
        "colab": {
          "base_uri": "https://localhost:8080/"
        },
        "id": "WNmFThCrL1NG",
        "outputId": "82eec5af-2760-4f9a-f208-8967ebd176e6"
      },
      "source": [
        "!pip install ibm_watson"
      ],
      "execution_count": 1,
      "outputs": [
        {
          "output_type": "stream",
          "name": "stdout",
          "text": [
            "Collecting ibm_watson\n",
            "  Downloading ibm-watson-7.0.1.tar.gz (389 kB)\n",
            "\u001b[?25l     \u001b[90m━━━━━━━━━━━━━━━━━━━━━━━━━━━━━━━━━━━━━━━━\u001b[0m \u001b[32m0.0/389.3 kB\u001b[0m \u001b[31m?\u001b[0m eta \u001b[36m-:--:--\u001b[0m\r\u001b[2K     \u001b[91m━━━━━━━━━━━━\u001b[0m\u001b[90m╺\u001b[0m\u001b[90m━━━━━━━━━━━━━━━━━━━━━━━━━━\u001b[0m \u001b[32m122.9/389.3 kB\u001b[0m \u001b[31m3.5 MB/s\u001b[0m eta \u001b[36m0:00:01\u001b[0m\r\u001b[2K     \u001b[90m━━━━━━━━━━━━━━━━━━━━━━━━━━━━━━━━━━━━━━━\u001b[0m \u001b[32m389.3/389.3 kB\u001b[0m \u001b[31m6.2 MB/s\u001b[0m eta \u001b[36m0:00:00\u001b[0m\n",
            "\u001b[?25h  Installing build dependencies ... \u001b[?25l\u001b[?25hdone\n",
            "  Getting requirements to build wheel ... \u001b[?25l\u001b[?25hdone\n",
            "  Preparing metadata (pyproject.toml) ... \u001b[?25l\u001b[?25hdone\n",
            "Requirement already satisfied: requests<3.0,>=2.0 in /usr/local/lib/python3.10/dist-packages (from ibm_watson) (2.31.0)\n",
            "Requirement already satisfied: python-dateutil>=2.5.3 in /usr/local/lib/python3.10/dist-packages (from ibm_watson) (2.8.2)\n",
            "Requirement already satisfied: websocket-client>=1.1.0 in /usr/local/lib/python3.10/dist-packages (from ibm_watson) (1.6.3)\n",
            "Collecting ibm-cloud-sdk-core==3.*,>=3.3.6 (from ibm_watson)\n",
            "  Downloading ibm-cloud-sdk-core-3.17.0.tar.gz (54 kB)\n",
            "\u001b[2K     \u001b[90m━━━━━━━━━━━━━━━━━━━━━━━━━━━━━━━━━━━━━━━━\u001b[0m \u001b[32m54.3/54.3 kB\u001b[0m \u001b[31m6.4 MB/s\u001b[0m eta \u001b[36m0:00:00\u001b[0m\n",
            "\u001b[?25h  Installing build dependencies ... \u001b[?25l\u001b[?25hdone\n",
            "  Getting requirements to build wheel ... \u001b[?25l\u001b[?25hdone\n",
            "  Preparing metadata (pyproject.toml) ... \u001b[?25l\u001b[?25hdone\n",
            "Collecting urllib3<2.0.0,>=1.26.0 (from ibm-cloud-sdk-core==3.*,>=3.3.6->ibm_watson)\n",
            "  Downloading urllib3-1.26.17-py2.py3-none-any.whl (143 kB)\n",
            "\u001b[2K     \u001b[90m━━━━━━━━━━━━━━━━━━━━━━━━━━━━━━━━━━━━━━━\u001b[0m \u001b[32m143.4/143.4 kB\u001b[0m \u001b[31m5.2 MB/s\u001b[0m eta \u001b[36m0:00:00\u001b[0m\n",
            "\u001b[?25hCollecting PyJWT<3.0.0,>=2.8.0 (from ibm-cloud-sdk-core==3.*,>=3.3.6->ibm_watson)\n",
            "  Downloading PyJWT-2.8.0-py3-none-any.whl (22 kB)\n",
            "Requirement already satisfied: six>=1.5 in /usr/local/lib/python3.10/dist-packages (from python-dateutil>=2.5.3->ibm_watson) (1.16.0)\n",
            "Requirement already satisfied: charset-normalizer<4,>=2 in /usr/local/lib/python3.10/dist-packages (from requests<3.0,>=2.0->ibm_watson) (3.2.0)\n",
            "Requirement already satisfied: idna<4,>=2.5 in /usr/local/lib/python3.10/dist-packages (from requests<3.0,>=2.0->ibm_watson) (3.4)\n",
            "Requirement already satisfied: certifi>=2017.4.17 in /usr/local/lib/python3.10/dist-packages (from requests<3.0,>=2.0->ibm_watson) (2023.7.22)\n",
            "Building wheels for collected packages: ibm_watson, ibm-cloud-sdk-core\n",
            "  Building wheel for ibm_watson (pyproject.toml) ... \u001b[?25l\u001b[?25hdone\n",
            "  Created wheel for ibm_watson: filename=ibm_watson-7.0.1-py3-none-any.whl size=389784 sha256=5806d133a0c953f343f541cd00ceba5aa9d8a11d6e8585a7f2124a1bf06b57d7\n",
            "  Stored in directory: /root/.cache/pip/wheels/34/df/f4/f8edc5ba0637dd4bfb2029741ae20402976a49d1b6bc113553\n",
            "  Building wheel for ibm-cloud-sdk-core (pyproject.toml) ... \u001b[?25l\u001b[?25hdone\n",
            "  Created wheel for ibm-cloud-sdk-core: filename=ibm_cloud_sdk_core-3.17.0-py3-none-any.whl size=85584 sha256=a2837f81b6eebbecbf09eb3ce2d01f92fa3ce12216b05fdb37256332c98a7dbe\n",
            "  Stored in directory: /root/.cache/pip/wheels/84/36/ef/aac6781d6a8437e3535f241e08883c89fdbe1758b4c26940cc\n",
            "Successfully built ibm_watson ibm-cloud-sdk-core\n",
            "Installing collected packages: urllib3, PyJWT, ibm-cloud-sdk-core, ibm_watson\n",
            "  Attempting uninstall: urllib3\n",
            "    Found existing installation: urllib3 2.0.5\n",
            "    Uninstalling urllib3-2.0.5:\n",
            "      Successfully uninstalled urllib3-2.0.5\n",
            "  Attempting uninstall: PyJWT\n",
            "    Found existing installation: PyJWT 2.3.0\n",
            "    Uninstalling PyJWT-2.3.0:\n",
            "      Successfully uninstalled PyJWT-2.3.0\n",
            "Successfully installed PyJWT-2.8.0 ibm-cloud-sdk-core-3.17.0 ibm_watson-7.0.1 urllib3-1.26.17\n"
          ]
        }
      ]
    },
    {
      "cell_type": "code",
      "metadata": {
        "id": "LeTq4QryMTuw"
      },
      "source": [
        "from ibm_watson import SpeechToTextV1\n",
        "from ibm_watson.websocket import RecognizeCallback, AudioSource\n",
        "from ibm_cloud_sdk_core.authenticators import IAMAuthenticator"
      ],
      "execution_count": 2,
      "outputs": []
    },
    {
      "cell_type": "markdown",
      "metadata": {
        "id": "QH3W3OQAMmqL"
      },
      "source": [
        "Speech to text service"
      ]
    },
    {
      "cell_type": "code",
      "metadata": {
        "id": "a64wy9K1MqfN"
      },
      "source": [
        "apikey = 'RNDf4X8vYo6HqRM_AWl7YN9PPBoUpO9Hxw3VyMaBxJpk'\n",
        "url = 'https://api.au-syd.speech-to-text.watson.cloud.ibm.com/instances/df411828-6eab-4804-971f-4f15f4eb93c8'"
      ],
      "execution_count": 3,
      "outputs": []
    },
    {
      "cell_type": "code",
      "metadata": {
        "id": "fB_rWN6KS_jH"
      },
      "source": [
        "# Setup Service\n",
        "authenticator = IAMAuthenticator(apikey)\n",
        "stt = SpeechToTextV1(authenticator=authenticator)\n",
        "stt.set_service_url(url)"
      ],
      "execution_count": 4,
      "outputs": []
    },
    {
      "cell_type": "code",
      "metadata": {
        "id": "0mS_KoDbTYRY"
      },
      "source": [],
      "execution_count": null,
      "outputs": []
    },
    {
      "cell_type": "markdown",
      "metadata": {
        "id": "uH8ZnWyUTcJD"
      },
      "source": [
        "2. Open Audio Source and Convert"
      ]
    },
    {
      "cell_type": "code",
      "metadata": {
        "id": "bYu0ARZrTfKw"
      },
      "source": [
        "# Perform conversion\n",
        "with open('/content/drive/MyDrive/Dataset/rhyme.mp3', 'rb') as f:\n",
        "    res = stt.recognize(audio=f, content_type='audio/mp3', model='en-US_NarrowbandModel').get_result()"
      ],
      "execution_count": 19,
      "outputs": []
    },
    {
      "cell_type": "code",
      "metadata": {
        "id": "cyL0vuWFZN3f",
        "colab": {
          "base_uri": "https://localhost:8080/"
        },
        "outputId": "944fa0ef-a192-45ae-84c2-e63b1d92f3d4"
      },
      "source": [
        "from google.colab import drive\n",
        "drive.mount('/content/drive')"
      ],
      "execution_count": 6,
      "outputs": [
        {
          "output_type": "stream",
          "name": "stdout",
          "text": [
            "Mounted at /content/drive\n"
          ]
        }
      ]
    },
    {
      "cell_type": "code",
      "source": [],
      "metadata": {
        "id": "tmiTDdjU4-xD"
      },
      "execution_count": null,
      "outputs": []
    },
    {
      "cell_type": "code",
      "metadata": {
        "colab": {
          "base_uri": "https://localhost:8080/",
          "height": 35
        },
        "id": "9TBV-MxYVeS7",
        "outputId": "f8f50c1a-0605-4823-d032-1ef0231e413e"
      },
      "source": [
        "text = res['results'][0]['alternatives'][0]['transcript']\n",
        "text"
      ],
      "execution_count": 28,
      "outputs": [
        {
          "output_type": "execute_result",
          "data": {
            "text/plain": [
              "'thirteen '"
            ],
            "application/vnd.google.colaboratory.intrinsic+json": {
              "type": "string"
            }
          },
          "metadata": {},
          "execution_count": 28
        }
      ]
    },
    {
      "cell_type": "code",
      "metadata": {
        "colab": {
          "base_uri": "https://localhost:8080/"
        },
        "id": "vXmAvUb8VdT2",
        "outputId": "399cce8d-22b8-4a36-8937-f0bc74f524c6"
      },
      "source": [
        "res"
      ],
      "execution_count": 29,
      "outputs": [
        {
          "output_type": "execute_result",
          "data": {
            "text/plain": [
              "{'result_index': 0,\n",
              " 'results': [{'final': True,\n",
              "   'alternatives': [{'transcript': 'thirteen ', 'confidence': 0.25}]},\n",
              "  {'final': True,\n",
              "   'alternatives': [{'transcript': 'hello ', 'confidence': 0.65}]},\n",
              "  {'final': True,\n",
              "   'alternatives': [{'transcript': 'when the ', 'confidence': 0.59}]},\n",
              "  {'final': True,\n",
              "   'alternatives': [{'transcript': 'sure ', 'confidence': 0.7}]},\n",
              "  {'final': True,\n",
              "   'alternatives': [{'transcript': 'sure ', 'confidence': 0.86}]},\n",
              "  {'final': True,\n",
              "   'alternatives': [{'transcript': 'being the only ', 'confidence': 0.5}]},\n",
              "  {'final': True,\n",
              "   'alternatives': [{'transcript': '%HESITATION ', 'confidence': 0.99}]},\n",
              "  {'final': True,\n",
              "   'alternatives': [{'transcript': 'twenty ', 'confidence': 0.66}]},\n",
              "  {'final': True,\n",
              "   'alternatives': [{'transcript': 'she ', 'confidence': 0.62}]},\n",
              "  {'final': True,\n",
              "   'alternatives': [{'transcript': 'twenty ', 'confidence': 0.7}]},\n",
              "  {'final': True,\n",
              "   'alternatives': [{'transcript': 'huh ', 'confidence': 0.57}]}]}"
            ]
          },
          "metadata": {},
          "execution_count": 29
        }
      ]
    },
    {
      "cell_type": "code",
      "metadata": {
        "colab": {
          "base_uri": "https://localhost:8080/"
        },
        "id": "EfHsyo3bVeWw",
        "outputId": "45944805-aabd-424f-d48b-d8edc0dfedb9"
      },
      "source": [
        "confidence = res['results'][0]['alternatives'][0]['confidence']\n",
        "confidence"
      ],
      "execution_count": 30,
      "outputs": [
        {
          "output_type": "execute_result",
          "data": {
            "text/plain": [
              "0.25"
            ]
          },
          "metadata": {},
          "execution_count": 30
        }
      ]
    },
    {
      "cell_type": "code",
      "metadata": {
        "id": "_qRoCzpFVeax"
      },
      "source": [
        "with open('output.txt', 'w') as out:\n",
        "    out.writelines(text)"
      ],
      "execution_count": 23,
      "outputs": []
    },
    {
      "cell_type": "code",
      "metadata": {
        "id": "sXsGICo2VeeB"
      },
      "source": [
        "# Perform conversion\n",
        "with open('/content/drive/MyDrive/Dataset/rhyme.mp3', 'rb') as f:\n",
        "    res = stt.recognize(audio=f, content_type='audio/mp3', model='en-AU_NarrowbandModel').get_result()"
      ],
      "execution_count": 24,
      "outputs": []
    },
    {
      "cell_type": "code",
      "metadata": {
        "colab": {
          "base_uri": "https://localhost:8080/"
        },
        "id": "ECYbvQniVegw",
        "outputId": "9cb4e235-954b-4982-d540-317e3ddf27d4"
      },
      "source": [
        "res"
      ],
      "execution_count": 27,
      "outputs": [
        {
          "output_type": "execute_result",
          "data": {
            "text/plain": [
              "{'result_index': 0,\n",
              " 'results': [{'final': True,\n",
              "   'alternatives': [{'transcript': 'thirteen ', 'confidence': 0.25}]},\n",
              "  {'final': True,\n",
              "   'alternatives': [{'transcript': 'hello ', 'confidence': 0.65}]},\n",
              "  {'final': True,\n",
              "   'alternatives': [{'transcript': 'when the ', 'confidence': 0.59}]},\n",
              "  {'final': True,\n",
              "   'alternatives': [{'transcript': 'sure ', 'confidence': 0.7}]},\n",
              "  {'final': True,\n",
              "   'alternatives': [{'transcript': 'sure ', 'confidence': 0.86}]},\n",
              "  {'final': True,\n",
              "   'alternatives': [{'transcript': 'being the only ', 'confidence': 0.5}]},\n",
              "  {'final': True,\n",
              "   'alternatives': [{'transcript': '%HESITATION ', 'confidence': 0.99}]},\n",
              "  {'final': True,\n",
              "   'alternatives': [{'transcript': 'twenty ', 'confidence': 0.66}]},\n",
              "  {'final': True,\n",
              "   'alternatives': [{'transcript': 'she ', 'confidence': 0.62}]},\n",
              "  {'final': True,\n",
              "   'alternatives': [{'transcript': 'twenty ', 'confidence': 0.7}]},\n",
              "  {'final': True,\n",
              "   'alternatives': [{'transcript': 'huh ', 'confidence': 0.57}]}]}"
            ]
          },
          "metadata": {},
          "execution_count": 27
        }
      ]
    }
  ]
}